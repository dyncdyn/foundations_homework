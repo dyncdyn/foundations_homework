{
 "cells": [
  {
   "cell_type": "markdown",
   "metadata": {},
   "source": [
    "# SWAPI (Star Wars)\n",
    "\n",
    "Answer the following questions using the [Star Wars](https://swapi.co/). I've added three cells for each question but you're free to use more or less! Hold `Shift` and hit `Enter` to run a cell, and use the `+` on the top left to add a new cell to a notebook.\n",
    "\n",
    "If you spend some time reading the documentation your life will probably be a little bit easier!\n",
    "\n",
    "## 0) Import any libraries you might need\n",
    "\n",
    "- *Tip: We're going to be downloading things from the internet, so we probably need `requests`.*"
   ]
  },
  {
   "cell_type": "code",
   "execution_count": 5,
   "metadata": {},
   "outputs": [],
   "source": [
    "import requests"
   ]
  },
  {
   "cell_type": "code",
   "execution_count": 6,
   "metadata": {},
   "outputs": [],
   "source": [
    "import swapi"
   ]
  },
  {
   "cell_type": "code",
   "execution_count": null,
   "metadata": {},
   "outputs": [],
   "source": []
  },
  {
   "cell_type": "markdown",
   "metadata": {},
   "source": [
    "## 1) Make a request to the Star Wars API\n",
    "\n",
    "I've heard there's a new Star Wars film called **Solo**, but it isn't in SWAPI!\n",
    "\n",
    "The most recent film it contains has an ID of 7. Make a request for that film and look at the data."
   ]
  },
  {
   "cell_type": "code",
   "execution_count": 7,
   "metadata": {},
   "outputs": [],
   "source": [
    "response = requests.get('https://swapi.co/api/films/7')\n",
    "data = response.json()"
   ]
  },
  {
   "cell_type": "code",
   "execution_count": 8,
   "metadata": {},
   "outputs": [
    {
     "data": {
      "text/plain": [
       "{'title': 'The Force Awakens',\n",
       " 'episode_id': 7,\n",
       " 'opening_crawl': \"Luke Skywalker has vanished.\\r\\nIn his absence, the sinister\\r\\nFIRST ORDER has risen from\\r\\nthe ashes of the Empire\\r\\nand will not rest until\\r\\nSkywalker, the last Jedi,\\r\\nhas been destroyed.\\r\\n \\r\\nWith the support of the\\r\\nREPUBLIC, General Leia Organa\\r\\nleads a brave RESISTANCE.\\r\\nShe is desperate to find her\\r\\nbrother Luke and gain his\\r\\nhelp in restoring peace and\\r\\njustice to the galaxy.\\r\\n \\r\\nLeia has sent her most daring\\r\\npilot on a secret mission\\r\\nto Jakku, where an old ally\\r\\nhas discovered a clue to\\r\\nLuke's whereabouts....\",\n",
       " 'director': 'J. J. Abrams',\n",
       " 'producer': 'Kathleen Kennedy, J. J. Abrams, Bryan Burk',\n",
       " 'release_date': '2015-12-11',\n",
       " 'characters': ['https://swapi.co/api/people/1/',\n",
       "  'https://swapi.co/api/people/3/',\n",
       "  'https://swapi.co/api/people/5/',\n",
       "  'https://swapi.co/api/people/13/',\n",
       "  'https://swapi.co/api/people/14/',\n",
       "  'https://swapi.co/api/people/27/',\n",
       "  'https://swapi.co/api/people/84/',\n",
       "  'https://swapi.co/api/people/85/',\n",
       "  'https://swapi.co/api/people/86/',\n",
       "  'https://swapi.co/api/people/87/',\n",
       "  'https://swapi.co/api/people/88/'],\n",
       " 'planets': ['https://swapi.co/api/planets/61/'],\n",
       " 'starships': ['https://swapi.co/api/starships/77/',\n",
       "  'https://swapi.co/api/starships/10/'],\n",
       " 'vehicles': [],\n",
       " 'species': ['https://swapi.co/api/species/3/',\n",
       "  'https://swapi.co/api/species/2/',\n",
       "  'https://swapi.co/api/species/1/'],\n",
       " 'created': '2015-04-17T06:51:30.504780Z',\n",
       " 'edited': '2015-12-17T14:31:47.617768Z',\n",
       " 'url': 'https://swapi.co/api/films/7/'}"
      ]
     },
     "execution_count": 8,
     "metadata": {},
     "output_type": "execute_result"
    }
   ],
   "source": [
    "data"
   ]
  },
  {
   "cell_type": "markdown",
   "metadata": {},
   "source": [
    "## 2) What is that film's name, and when was it released?\n",
    "\n",
    "Please print **only** the title and the release date. You can guess at the keys, but I recommend checking the documentation."
   ]
  },
  {
   "cell_type": "code",
   "execution_count": 9,
   "metadata": {},
   "outputs": [
    {
     "data": {
      "text/plain": [
       "dict_keys(['title', 'episode_id', 'opening_crawl', 'director', 'producer', 'release_date', 'characters', 'planets', 'starships', 'vehicles', 'species', 'created', 'edited', 'url'])"
      ]
     },
     "execution_count": 9,
     "metadata": {},
     "output_type": "execute_result"
    }
   ],
   "source": [
    "data.keys()"
   ]
  },
  {
   "cell_type": "code",
   "execution_count": 10,
   "metadata": {},
   "outputs": [
    {
     "data": {
      "text/plain": [
       "'The Force Awakens'"
      ]
     },
     "execution_count": 10,
     "metadata": {},
     "output_type": "execute_result"
    }
   ],
   "source": [
    "data['title']"
   ]
  },
  {
   "cell_type": "code",
   "execution_count": 11,
   "metadata": {},
   "outputs": [
    {
     "data": {
      "text/plain": [
       "'2015-12-11'"
      ]
     },
     "execution_count": 11,
     "metadata": {},
     "output_type": "execute_result"
    }
   ],
   "source": [
    "data['release_date']"
   ]
  },
  {
   "cell_type": "markdown",
   "metadata": {},
   "source": [
    "## 3) But I want Han Solo! Use the API to search for people named \"Solo\"."
   ]
  },
  {
   "cell_type": "code",
   "execution_count": 12,
   "metadata": {},
   "outputs": [
    {
     "data": {
      "text/plain": [
       "{'count': 1,\n",
       " 'next': None,\n",
       " 'previous': None,\n",
       " 'results': [{'name': 'Han Solo',\n",
       "   'height': '180',\n",
       "   'mass': '80',\n",
       "   'hair_color': 'brown',\n",
       "   'skin_color': 'fair',\n",
       "   'eye_color': 'brown',\n",
       "   'birth_year': '29BBY',\n",
       "   'gender': 'male',\n",
       "   'homeworld': 'https://swapi.co/api/planets/22/',\n",
       "   'films': ['https://swapi.co/api/films/2/',\n",
       "    'https://swapi.co/api/films/3/',\n",
       "    'https://swapi.co/api/films/1/',\n",
       "    'https://swapi.co/api/films/7/'],\n",
       "   'species': ['https://swapi.co/api/species/1/'],\n",
       "   'vehicles': [],\n",
       "   'starships': ['https://swapi.co/api/starships/10/',\n",
       "    'https://swapi.co/api/starships/22/'],\n",
       "   'created': '2014-12-10T16:49:14.582000Z',\n",
       "   'edited': '2014-12-20T21:17:50.334000Z',\n",
       "   'url': 'https://swapi.co/api/people/14/'}]}"
      ]
     },
     "execution_count": 12,
     "metadata": {},
     "output_type": "execute_result"
    }
   ],
   "source": [
    "response = requests.get('https://swapi.co/api/people/?search=solo')\n",
    "solo = response.json()\n",
    "solo"
   ]
  },
  {
   "cell_type": "code",
   "execution_count": 13,
   "metadata": {},
   "outputs": [
    {
     "data": {
      "text/plain": [
       "'Han Solo'"
      ]
     },
     "execution_count": 13,
     "metadata": {},
     "output_type": "execute_result"
    }
   ],
   "source": [
    "solo['results'][0]['name']"
   ]
  },
  {
   "cell_type": "markdown",
   "metadata": {},
   "source": [
    "## 4) How many results did you get?\n",
    "\n",
    "Show **two different ways** of displaying this number.\n",
    "\n",
    "- *Tip: One uses the API, and one uses a Python function*"
   ]
  },
  {
   "cell_type": "code",
   "execution_count": 14,
   "metadata": {},
   "outputs": [
    {
     "data": {
      "text/plain": [
       "1"
      ]
     },
     "execution_count": 14,
     "metadata": {},
     "output_type": "execute_result"
    }
   ],
   "source": [
    "response = requests.get('https://swapi.co/api/people/?search=solo')\n",
    "solo = response.json()\n",
    "solo['count']"
   ]
  },
  {
   "cell_type": "code",
   "execution_count": 15,
   "metadata": {},
   "outputs": [
    {
     "data": {
      "text/plain": [
       "1"
      ]
     },
     "execution_count": 15,
     "metadata": {},
     "output_type": "execute_result"
    }
   ],
   "source": [
    "len(solo['results'])"
   ]
  },
  {
   "cell_type": "markdown",
   "metadata": {},
   "source": [
    "## 5) Write me a sentence about Han Solo\n",
    "\n",
    "Your sentence should be say `\"____ has _____ hair, is _____cm tall and weighs ____kg.\"` - make sure you have **no spcaes** between the numbers and `cm`/`kg`."
   ]
  },
  {
   "cell_type": "code",
   "execution_count": 16,
   "metadata": {},
   "outputs": [
    {
     "data": {
      "text/plain": [
       "'Han Solo has brown hair, is 180cm tall and weighs 80kg.'"
      ]
     },
     "execution_count": 16,
     "metadata": {},
     "output_type": "execute_result"
    }
   ],
   "source": [
    "Solo = solo['results'][0]\n",
    "Solo['name']\n",
    "f\"{Solo['name']} has {Solo['hair_color']} hair, is {Solo['height']}cm tall and weighs {Solo['mass']}kg.\""
   ]
  },
  {
   "cell_type": "code",
   "execution_count": null,
   "metadata": {},
   "outputs": [],
   "source": []
  },
  {
   "cell_type": "markdown",
   "metadata": {},
   "source": [
    "## 5) Search for C-3PO"
   ]
  },
  {
   "cell_type": "code",
   "execution_count": 17,
   "metadata": {},
   "outputs": [
    {
     "data": {
      "text/plain": [
       "{'count': 1,\n",
       " 'next': None,\n",
       " 'previous': None,\n",
       " 'results': [{'name': 'C-3PO',\n",
       "   'height': '167',\n",
       "   'mass': '75',\n",
       "   'hair_color': 'n/a',\n",
       "   'skin_color': 'gold',\n",
       "   'eye_color': 'yellow',\n",
       "   'birth_year': '112BBY',\n",
       "   'gender': 'n/a',\n",
       "   'homeworld': 'https://swapi.co/api/planets/1/',\n",
       "   'films': ['https://swapi.co/api/films/2/',\n",
       "    'https://swapi.co/api/films/5/',\n",
       "    'https://swapi.co/api/films/4/',\n",
       "    'https://swapi.co/api/films/6/',\n",
       "    'https://swapi.co/api/films/3/',\n",
       "    'https://swapi.co/api/films/1/'],\n",
       "   'species': ['https://swapi.co/api/species/2/'],\n",
       "   'vehicles': [],\n",
       "   'starships': [],\n",
       "   'created': '2014-12-10T15:10:51.357000Z',\n",
       "   'edited': '2014-12-20T21:17:50.309000Z',\n",
       "   'url': 'https://swapi.co/api/people/2/'}]}"
      ]
     },
     "execution_count": 17,
     "metadata": {},
     "output_type": "execute_result"
    }
   ],
   "source": [
    "response = requests.get('https://swapi.co/api/people/?search=C-3PO')\n",
    "C_3PO = response.json()\n",
    "C_3PO"
   ]
  },
  {
   "cell_type": "code",
   "execution_count": null,
   "metadata": {},
   "outputs": [],
   "source": []
  },
  {
   "cell_type": "markdown",
   "metadata": {},
   "source": [
    "## 6) What URL can tell me more about his species? Make a request to the corrent endpoint.\n",
    "\n",
    "Spoiler: he's a **droid**. Are robots a species? I guess so, maybe."
   ]
  },
  {
   "cell_type": "code",
   "execution_count": 18,
   "metadata": {},
   "outputs": [
    {
     "data": {
      "text/plain": [
       "'Droid'"
      ]
     },
     "execution_count": 18,
     "metadata": {},
     "output_type": "execute_result"
    }
   ],
   "source": [
    "response = requests.get('https://swapi.co/api/species/2')\n",
    "species_C_3PO = response.json()\n",
    "species_C_3PO['name']"
   ]
  },
  {
   "cell_type": "code",
   "execution_count": 19,
   "metadata": {},
   "outputs": [
    {
     "data": {
      "text/plain": [
       "{'name': 'Droid',\n",
       " 'classification': 'artificial',\n",
       " 'designation': 'sentient',\n",
       " 'average_height': 'n/a',\n",
       " 'skin_colors': 'n/a',\n",
       " 'hair_colors': 'n/a',\n",
       " 'eye_colors': 'n/a',\n",
       " 'average_lifespan': 'indefinite',\n",
       " 'homeworld': None,\n",
       " 'language': 'n/a',\n",
       " 'people': ['https://swapi.co/api/people/2/',\n",
       "  'https://swapi.co/api/people/3/',\n",
       "  'https://swapi.co/api/people/8/',\n",
       "  'https://swapi.co/api/people/23/',\n",
       "  'https://swapi.co/api/people/87/'],\n",
       " 'films': ['https://swapi.co/api/films/2/',\n",
       "  'https://swapi.co/api/films/7/',\n",
       "  'https://swapi.co/api/films/5/',\n",
       "  'https://swapi.co/api/films/4/',\n",
       "  'https://swapi.co/api/films/6/',\n",
       "  'https://swapi.co/api/films/3/',\n",
       "  'https://swapi.co/api/films/1/'],\n",
       " 'created': '2014-12-10T15:16:16.259000Z',\n",
       " 'edited': '2015-04-17T06:59:43.869528Z',\n",
       " 'url': 'https://swapi.co/api/species/2/'}"
      ]
     },
     "execution_count": 19,
     "metadata": {},
     "output_type": "execute_result"
    }
   ],
   "source": [
    "response = requests.get('https://swapi.co/api/species/2')\n",
    "species_C_3PO = response.json()\n",
    "species_C_3PO"
   ]
  },
  {
   "cell_type": "markdown",
   "metadata": {},
   "source": [
    "## 7) Print out the URL of every droid\n",
    "\n",
    "* *Tip: life will be easier if you don't say `for droid in...` or `for person in` because you aren't looping through droids or people. What are you looping through?*"
   ]
  },
  {
   "cell_type": "code",
   "execution_count": 20,
   "metadata": {},
   "outputs": [
    {
     "data": {
      "text/plain": [
       "['https://swapi.co/api/people/2/',\n",
       " 'https://swapi.co/api/people/3/',\n",
       " 'https://swapi.co/api/people/8/',\n",
       " 'https://swapi.co/api/people/23/',\n",
       " 'https://swapi.co/api/people/87/']"
      ]
     },
     "execution_count": 20,
     "metadata": {},
     "output_type": "execute_result"
    }
   ],
   "source": [
    "response = requests.get('https://swapi.co/api/species/2')\n",
    "species_C_3PO = response.json()\n",
    "species_C_3PO['people']"
   ]
  },
  {
   "cell_type": "code",
   "execution_count": null,
   "metadata": {},
   "outputs": [],
   "source": []
  },
  {
   "cell_type": "markdown",
   "metadata": {},
   "source": [
    "## 8) Print out the name of every droid\n",
    "\n",
    "* *Tip: You should start from the last answer, but add more stuff in!*\n",
    "* *Tip: You'll need to make a request every time you're in the loop*\n",
    "* *Tip: Be careful - f you re-use the variable name `data` you'll erase your old `data` variable*"
   ]
  },
  {
   "cell_type": "code",
   "execution_count": 21,
   "metadata": {},
   "outputs": [
    {
     "data": {
      "text/plain": [
       "['C-3PO', 'R2-D2', 'R5-D4', 'IG-88', 'BB8']"
      ]
     },
     "execution_count": 21,
     "metadata": {},
     "output_type": "execute_result"
    }
   ],
   "source": [
    "species_droid = species_C_3PO\n",
    "\n",
    "Droid = []\n",
    "\n",
    "for url in species_droid['people']:\n",
    "    response = requests.get(url)\n",
    "    droid = response.json()\n",
    "    Droid.append(droid['name'])\n",
    "\n",
    "Droid"
   ]
  },
  {
   "cell_type": "code",
   "execution_count": null,
   "metadata": {},
   "outputs": [],
   "source": []
  },
  {
   "cell_type": "markdown",
   "metadata": {},
   "source": [
    "## 9) Print out more about the droid\n",
    "\n",
    "Count the number of films for each droid, printing `\"___ was in ___ films\"` for each of them\n",
    "\n",
    "* *Tip: You might want to look at a single droid result, or print the data in the for loop, so you know how to get the films. Or read the documentation!*"
   ]
  },
  {
   "cell_type": "code",
   "execution_count": 22,
   "metadata": {},
   "outputs": [
    {
     "data": {
      "text/plain": [
       "{'name': 'Droid',\n",
       " 'classification': 'artificial',\n",
       " 'designation': 'sentient',\n",
       " 'average_height': 'n/a',\n",
       " 'skin_colors': 'n/a',\n",
       " 'hair_colors': 'n/a',\n",
       " 'eye_colors': 'n/a',\n",
       " 'average_lifespan': 'indefinite',\n",
       " 'homeworld': None,\n",
       " 'language': 'n/a',\n",
       " 'people': ['https://swapi.co/api/people/2/',\n",
       "  'https://swapi.co/api/people/3/',\n",
       "  'https://swapi.co/api/people/8/',\n",
       "  'https://swapi.co/api/people/23/',\n",
       "  'https://swapi.co/api/people/87/'],\n",
       " 'films': ['https://swapi.co/api/films/2/',\n",
       "  'https://swapi.co/api/films/7/',\n",
       "  'https://swapi.co/api/films/5/',\n",
       "  'https://swapi.co/api/films/4/',\n",
       "  'https://swapi.co/api/films/6/',\n",
       "  'https://swapi.co/api/films/3/',\n",
       "  'https://swapi.co/api/films/1/'],\n",
       " 'created': '2014-12-10T15:16:16.259000Z',\n",
       " 'edited': '2015-04-17T06:59:43.869528Z',\n",
       " 'url': 'https://swapi.co/api/species/2/'}"
      ]
     },
     "execution_count": 22,
     "metadata": {},
     "output_type": "execute_result"
    }
   ],
   "source": [
    "species_droid = species_C_3PO\n",
    "\n",
    "species_droid"
   ]
  },
  {
   "cell_type": "code",
   "execution_count": 23,
   "metadata": {},
   "outputs": [
    {
     "name": "stdout",
     "output_type": "stream",
     "text": [
      "C-3PO was in 6 film(s).\n",
      "R2-D2 was in 7 film(s).\n",
      "R5-D4 was in 1 film(s).\n",
      "IG-88 was in 1 film(s).\n",
      "BB8 was in 1 film(s).\n"
     ]
    }
   ],
   "source": [
    "\n",
    "for url_people in species_droid['people']:\n",
    "    response = requests.get(url_people)\n",
    "    droid = response.json()\n",
    "    count = len(droid['films'])\n",
    "    print(f\"{droid['name']} was in {count} film(s).\")\n"
   ]
  },
  {
   "cell_type": "code",
   "execution_count": null,
   "metadata": {},
   "outputs": [],
   "source": []
  },
  {
   "cell_type": "markdown",
   "metadata": {},
   "source": [
    "## 10) Let's be smart and cache the results *[DIFFICULT, maybe!]*\n",
    "\n",
    "So far we've been using a for loop to go through each droid. Every droid, one more request. Every time we want more data, we run the loops again. I don't want that guy to get angry that we're asking for so much data!\n",
    "\n",
    "We want to our list of **droid urls** and turn it into a **list of dictionaries about those droids**. Save it as a variable called `droids`. If you get it correct, the following code should work if you cut and paste it.\n",
    "\n",
    "```python\n",
    "for droid in droids:\n",
    "    print(droid['name'])\n",
    "```\n",
    "\n",
    "* *Tip: Use a list comprehension*\n",
    "* *Tip: So far we've done `response = requests.get..` and `response.json()` on separate lines. You'll need to combine them!*"
   ]
  },
  {
   "cell_type": "code",
   "execution_count": 24,
   "metadata": {},
   "outputs": [
    {
     "data": {
      "text/plain": [
       "[{'name': 'C-3PO',\n",
       "  'height': '167',\n",
       "  'mass': '75',\n",
       "  'hair_color': 'n/a',\n",
       "  'skin_color': 'gold',\n",
       "  'eye_color': 'yellow',\n",
       "  'birth_year': '112BBY',\n",
       "  'gender': 'n/a',\n",
       "  'homeworld': 'https://swapi.co/api/planets/1/',\n",
       "  'films': ['https://swapi.co/api/films/2/',\n",
       "   'https://swapi.co/api/films/5/',\n",
       "   'https://swapi.co/api/films/4/',\n",
       "   'https://swapi.co/api/films/6/',\n",
       "   'https://swapi.co/api/films/3/',\n",
       "   'https://swapi.co/api/films/1/'],\n",
       "  'species': ['https://swapi.co/api/species/2/'],\n",
       "  'vehicles': [],\n",
       "  'starships': [],\n",
       "  'created': '2014-12-10T15:10:51.357000Z',\n",
       "  'edited': '2014-12-20T21:17:50.309000Z',\n",
       "  'url': 'https://swapi.co/api/people/2/'},\n",
       " {'name': 'R2-D2',\n",
       "  'height': '96',\n",
       "  'mass': '32',\n",
       "  'hair_color': 'n/a',\n",
       "  'skin_color': 'white, blue',\n",
       "  'eye_color': 'red',\n",
       "  'birth_year': '33BBY',\n",
       "  'gender': 'n/a',\n",
       "  'homeworld': 'https://swapi.co/api/planets/8/',\n",
       "  'films': ['https://swapi.co/api/films/2/',\n",
       "   'https://swapi.co/api/films/5/',\n",
       "   'https://swapi.co/api/films/4/',\n",
       "   'https://swapi.co/api/films/6/',\n",
       "   'https://swapi.co/api/films/3/',\n",
       "   'https://swapi.co/api/films/1/',\n",
       "   'https://swapi.co/api/films/7/'],\n",
       "  'species': ['https://swapi.co/api/species/2/'],\n",
       "  'vehicles': [],\n",
       "  'starships': [],\n",
       "  'created': '2014-12-10T15:11:50.376000Z',\n",
       "  'edited': '2014-12-20T21:17:50.311000Z',\n",
       "  'url': 'https://swapi.co/api/people/3/'},\n",
       " {'name': 'R5-D4',\n",
       "  'height': '97',\n",
       "  'mass': '32',\n",
       "  'hair_color': 'n/a',\n",
       "  'skin_color': 'white, red',\n",
       "  'eye_color': 'red',\n",
       "  'birth_year': 'unknown',\n",
       "  'gender': 'n/a',\n",
       "  'homeworld': 'https://swapi.co/api/planets/1/',\n",
       "  'films': ['https://swapi.co/api/films/1/'],\n",
       "  'species': ['https://swapi.co/api/species/2/'],\n",
       "  'vehicles': [],\n",
       "  'starships': [],\n",
       "  'created': '2014-12-10T15:57:50.959000Z',\n",
       "  'edited': '2014-12-20T21:17:50.321000Z',\n",
       "  'url': 'https://swapi.co/api/people/8/'},\n",
       " {'name': 'IG-88',\n",
       "  'height': '200',\n",
       "  'mass': '140',\n",
       "  'hair_color': 'none',\n",
       "  'skin_color': 'metal',\n",
       "  'eye_color': 'red',\n",
       "  'birth_year': '15BBY',\n",
       "  'gender': 'none',\n",
       "  'homeworld': 'https://swapi.co/api/planets/28/',\n",
       "  'films': ['https://swapi.co/api/films/2/'],\n",
       "  'species': ['https://swapi.co/api/species/2/'],\n",
       "  'vehicles': [],\n",
       "  'starships': [],\n",
       "  'created': '2014-12-15T12:51:10.076000Z',\n",
       "  'edited': '2014-12-20T21:17:50.351000Z',\n",
       "  'url': 'https://swapi.co/api/people/23/'},\n",
       " {'name': 'BB8',\n",
       "  'height': 'unknown',\n",
       "  'mass': 'unknown',\n",
       "  'hair_color': 'none',\n",
       "  'skin_color': 'none',\n",
       "  'eye_color': 'black',\n",
       "  'birth_year': 'unknown',\n",
       "  'gender': 'none',\n",
       "  'homeworld': 'https://swapi.co/api/planets/28/',\n",
       "  'films': ['https://swapi.co/api/films/7/'],\n",
       "  'species': ['https://swapi.co/api/species/2/'],\n",
       "  'vehicles': [],\n",
       "  'starships': [],\n",
       "  'created': '2015-04-17T06:57:38.061346Z',\n",
       "  'edited': '2015-04-17T06:57:38.061453Z',\n",
       "  'url': 'https://swapi.co/api/people/87/'}]"
      ]
     },
     "execution_count": 24,
     "metadata": {},
     "output_type": "execute_result"
    }
   ],
   "source": [
    "droids = []\n",
    "\n",
    "for url in species_droid['people']:\n",
    "    response = requests.get(url)\n",
    "    droid = response.json()\n",
    "    droids.append(droid)\n",
    "\n",
    "droids "
   ]
  },
  {
   "cell_type": "code",
   "execution_count": 25,
   "metadata": {},
   "outputs": [
    {
     "name": "stdout",
     "output_type": "stream",
     "text": [
      "C-3PO\n",
      "R2-D2\n",
      "R5-D4\n",
      "IG-88\n",
      "BB8\n"
     ]
    }
   ],
   "source": [
    "for droid in droids:\n",
    "    print(droid['name'])"
   ]
  },
  {
   "cell_type": "markdown",
   "metadata": {},
   "source": [
    "## 11) Get a list of every single planet in the Star Wars universe\n",
    "\n",
    "* *Tip: You'll want to use the API documentation for this, I think*"
   ]
  },
  {
   "cell_type": "code",
   "execution_count": 34,
   "metadata": {},
   "outputs": [
    {
     "data": {
      "text/plain": [
       "[<Planet - Alderaan>,\n",
       " <Planet - Yavin IV>,\n",
       " <Planet - Hoth>,\n",
       " <Planet - Dagobah>,\n",
       " <Planet - Bespin>,\n",
       " <Planet - Endor>,\n",
       " <Planet - Naboo>,\n",
       " <Planet - Coruscant>,\n",
       " <Planet - Kamino>,\n",
       " <Planet - Geonosis>,\n",
       " <Planet - Utapau>,\n",
       " <Planet - Mustafar>,\n",
       " <Planet - Kashyyyk>,\n",
       " <Planet - Polis Massa>,\n",
       " <Planet - Mygeeto>,\n",
       " <Planet - Felucia>,\n",
       " <Planet - Cato Neimoidia>,\n",
       " <Planet - Saleucami>,\n",
       " <Planet - Stewjon>,\n",
       " <Planet - Eriadu>,\n",
       " <Planet - Corellia>,\n",
       " <Planet - Rodia>,\n",
       " <Planet - Nal Hutta>,\n",
       " <Planet - Dantooine>,\n",
       " <Planet - Bestine IV>,\n",
       " <Planet - Ord Mantell>,\n",
       " <Planet - unknown>,\n",
       " <Planet - Trandosha>,\n",
       " <Planet - Socorro>,\n",
       " <Planet - Mon Cala>,\n",
       " <Planet - Chandrila>,\n",
       " <Planet - Sullust>,\n",
       " <Planet - Toydaria>,\n",
       " <Planet - Malastare>,\n",
       " <Planet - Dathomir>,\n",
       " <Planet - Ryloth>,\n",
       " <Planet - Aleen Minor>,\n",
       " <Planet - Vulpter>,\n",
       " <Planet - Troiken>,\n",
       " <Planet - Tund>,\n",
       " <Planet - Haruun Kal>,\n",
       " <Planet - Cerea>,\n",
       " <Planet - Glee Anselm>,\n",
       " <Planet - Iridonia>,\n",
       " <Planet - Tholoth>,\n",
       " <Planet - Iktotch>,\n",
       " <Planet - Quermia>,\n",
       " <Planet - Dorin>,\n",
       " <Planet - Champala>,\n",
       " <Planet - Mirial>,\n",
       " <Planet - Serenno>,\n",
       " <Planet - Concord Dawn>,\n",
       " <Planet - Zolan>,\n",
       " <Planet - Ojom>,\n",
       " <Planet - Skako>,\n",
       " <Planet - Muunilinst>,\n",
       " <Planet - Shili>,\n",
       " <Planet - Kalee>,\n",
       " <Planet - Umbara>,\n",
       " <Planet - Tatooine>,\n",
       " <Planet - Jakku>]"
      ]
     },
     "execution_count": 34,
     "metadata": {},
     "output_type": "execute_result"
    }
   ],
   "source": [
    "planets = swapi.get_all(\"planets\")\n",
    "planets.items\n"
   ]
  },
  {
   "cell_type": "code",
   "execution_count": null,
   "metadata": {},
   "outputs": [],
   "source": []
  },
  {
   "cell_type": "markdown",
   "metadata": {},
   "source": [
    "## 12) How many plants are there? Show me two different ways of displaying the answer.\n",
    "\n",
    "* *Tip: They won't match*"
   ]
  },
  {
   "cell_type": "code",
   "execution_count": 36,
   "metadata": {},
   "outputs": [
    {
     "data": {
      "text/plain": [
       "61"
      ]
     },
     "execution_count": 36,
     "metadata": {},
     "output_type": "execute_result"
    }
   ],
   "source": [
    "planets = swapi.get_all(\"planets\")\n",
    "len(planets.items)"
   ]
  },
  {
   "cell_type": "code",
   "execution_count": 49,
   "metadata": {},
   "outputs": [
    {
     "data": {
      "text/plain": [
       "61"
      ]
     },
     "execution_count": 49,
     "metadata": {},
     "output_type": "execute_result"
    }
   ],
   "source": [
    "response = requests.get('https://swapi.co/api/planets')\n",
    "Planets = response.json()\n",
    "Planets['count']\n"
   ]
  },
  {
   "cell_type": "code",
   "execution_count": 50,
   "metadata": {},
   "outputs": [
    {
     "name": "stdout",
     "output_type": "stream",
     "text": [
      "['Alderaan', 'Yavin IV', 'Hoth', 'Dagobah', 'Bespin', 'Endor', 'Naboo', 'Coruscant', 'Kamino', 'Geonosis']\n"
     ]
    },
    {
     "data": {
      "text/plain": [
       "10"
      ]
     },
     "execution_count": 50,
     "metadata": {},
     "output_type": "execute_result"
    }
   ],
   "source": [
    "response = requests.get('https://swapi.co/api/planets')\n",
    "Planets = response.json()\n",
    "Planets = Planets['results']\n",
    "Planets_name = []\n",
    "for planet in Planets:\n",
    "    name = planet['name']\n",
    "    Planets_name.append(name)\n",
    "\n",
    "print(Planets_name)\n",
    "len(Planets_name)"
   ]
  },
  {
   "cell_type": "markdown",
   "metadata": {},
   "source": [
    "# These questions are all list comprehension questions, if you'd like\n",
    "\n",
    "## 13) Get the population of each of the planets\n",
    "\n",
    "* *Tip: Only use the 10 results for now*\n",
    "* *Tip: Use a list comprehension*"
   ]
  },
  {
   "cell_type": "code",
   "execution_count": 60,
   "metadata": {},
   "outputs": [
    {
     "data": {
      "text/plain": [
       "[('Alderaan', '2000000000'),\n",
       " ('Yavin IV', '1000'),\n",
       " ('Hoth', 'unknown'),\n",
       " ('Dagobah', 'unknown'),\n",
       " ('Bespin', '6000000'),\n",
       " ('Endor', '30000000'),\n",
       " ('Naboo', '4500000000'),\n",
       " ('Coruscant', '1000000000000'),\n",
       " ('Kamino', '1000000000'),\n",
       " ('Geonosis', '100000000000')]"
      ]
     },
     "execution_count": 60,
     "metadata": {},
     "output_type": "execute_result"
    }
   ],
   "source": [
    "Planets_pop = []\n",
    "for planet in Planets:\n",
    "    pop = planet['population']\n",
    "    Planets_pop.append(pop)\n",
    "\n",
    "Planets_ = list(zip(gggg, Planets_pop))\n",
    "Planets_"
   ]
  },
  {
   "cell_type": "code",
   "execution_count": null,
   "metadata": {},
   "outputs": [],
   "source": []
  },
  {
   "cell_type": "markdown",
   "metadata": {},
   "source": [
    "## 14) Get the population of each of the planets, EXCEPT the ones that have a population of `'unknown'`\n",
    "\n",
    "* *Tip: Use a list comprehension with a filter (that's the `..if..` part at the end)*"
   ]
  },
  {
   "cell_type": "code",
   "execution_count": 62,
   "metadata": {},
   "outputs": [
    {
     "data": {
      "text/plain": [
       "['2000000000',\n",
       " '1000',\n",
       " '6000000',\n",
       " '30000000',\n",
       " '4500000000',\n",
       " '1000000000000',\n",
       " '1000000000',\n",
       " '100000000000']"
      ]
     },
     "execution_count": 62,
     "metadata": {},
     "output_type": "execute_result"
    }
   ],
   "source": [
    "Planets_Pop = []\n",
    "for planet in Planets:\n",
    "    Pop = planet['population']\n",
    "    if Pop != 'unknown':\n",
    "        Planets_Pop.append(Pop)\n",
    "\n",
    "Planets_Pop"
   ]
  },
  {
   "cell_type": "code",
   "execution_count": null,
   "metadata": {},
   "outputs": [],
   "source": []
  },
  {
   "cell_type": "markdown",
   "metadata": {},
   "source": [
    "## 14) Add up the populations\n",
    "\n",
    "* *Tip: They're strings right now, so it isn't going to work unless you change something about them*"
   ]
  },
  {
   "cell_type": "code",
   "execution_count": 63,
   "metadata": {},
   "outputs": [
    {
     "data": {
      "text/plain": [
       "1107536001000"
      ]
     },
     "execution_count": 63,
     "metadata": {},
     "output_type": "execute_result"
    }
   ],
   "source": [
    "Planets_Pop = list(map(int, Planets_Pop))\n",
    "\n",
    "Total_Pop = sum(Planets_Pop)\n",
    "Total_Pop"
   ]
  },
  {
   "cell_type": "code",
   "execution_count": null,
   "metadata": {},
   "outputs": [],
   "source": []
  },
  {
   "cell_type": "markdown",
   "metadata": {},
   "source": [
    "## 15) Print what percentage of the total population each planet has\n",
    "\n",
    "I would like the sentences to be `\"The planet ____ has a population of _____, which is ___% of the total population\"`. If we don't know the planet's population, say `\"We don't know the population of _____\"`.\n",
    "\n",
    "* *Tip: This finally uses a for loop, but also the result of the last question*"
   ]
  },
  {
   "cell_type": "code",
   "execution_count": 69,
   "metadata": {},
   "outputs": [
    {
     "name": "stdout",
     "output_type": "stream",
     "text": [
      "The planet Alderaan has a population of 2000000000, which is 0.1805810374% of the total population.\n",
      "The planet Yavin IV has a population of 1000, which is 9.03e-08% of the total population.\n",
      "We don't know the population of Hoth.\n",
      "We don't know the population of Dagobah.\n",
      "The planet Bespin has a population of 6000000, which is 0.0005417431% of the total population.\n",
      "The planet Endor has a population of 30000000, which is 0.0027087156% of the total population.\n",
      "The planet Naboo has a population of 4500000000, which is 0.4063073341% of the total population.\n",
      "The planet Coruscant has a population of 1000000000000, which is 90.2905186917% of the total population.\n",
      "The planet Kamino has a population of 1000000000, which is 0.0902905187% of the total population.\n",
      "The planet Geonosis has a population of 100000000000, which is 9.0290518692% of the total population.\n"
     ]
    }
   ],
   "source": [
    "for planet in Planets:\n",
    "    name = planet['name']\n",
    "    pop = planet['population']\n",
    "    if pop != 'unknown':\n",
    "        print(f'The planet {name} has a population of {pop}, which is {round(int(pop)*100/Total_Pop,10)}% of the total population.')\n",
    "    else:\n",
    "        print(f\"We don't know the population of {name}.\")"
   ]
  },
  {
   "cell_type": "code",
   "execution_count": null,
   "metadata": {},
   "outputs": [],
   "source": []
  }
 ],
 "metadata": {
  "kernelspec": {
   "display_name": "Python 3",
   "language": "python",
   "name": "python3"
  },
  "language_info": {
   "codemirror_mode": {
    "name": "ipython",
    "version": 3
   },
   "file_extension": ".py",
   "mimetype": "text/x-python",
   "name": "python",
   "nbconvert_exporter": "python",
   "pygments_lexer": "ipython3",
   "version": "3.7.3"
  }
 },
 "nbformat": 4,
 "nbformat_minor": 2
}
